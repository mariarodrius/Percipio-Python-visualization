{
 "cells": [
  {
   "cell_type": "code",
   "execution_count": null,
   "metadata": {},
   "outputs": [],
   "source": [
    "\n",
    "#######################################################\n",
    "#######################################################\n",
    "############    COPYRIGHT - DATA SOCIETY   ############\n",
    "#######################################################\n",
    "#######################################################\n",
    "\n",
    "## DAY1 DATA VIZ WITH PYTHON ##\n",
    "\n",
    "## NOTE: To run individual pieces of code, select the line of code and\n",
    "##       press ctrl + enter for PCs or command + enter for Macs\n",
    "\n"
   ]
  },
  {
   "cell_type": "code",
   "execution_count": null,
   "metadata": {},
   "outputs": [],
   "source": [
    "#=================================================-\n",
    "#### Slide 19: Loading packages  ####\n",
    "\n",
    "import pandas as pd\n",
    "import numpy as np\n",
    "import pickle\n",
    "import os\n",
    "import matplotlib.pyplot as plt\n",
    "\n"
   ]
  },
  {
   "cell_type": "code",
   "execution_count": null,
   "metadata": {},
   "outputs": [],
   "source": [
    "#=================================================-\n",
    "#### Slide 20: Directory settings  ####\n",
    "\n",
    "# Set `home_dir` to the root directory of your computer.\n",
    "home_dir = os.path.expanduser(\"~\")\n",
    "# Set `main_dir` to the location of your `skillsoft-data-viz-with-python` folder.\n",
    "main_dir = os.path.join(home_dir, \"Desktop\", \"skillsoft-data-viz-with-python\")\n",
    "# Make `data_dir` from the `main_dir` and\n",
    "# remainder of the path to data directory.\n",
    "data_dir = os.path.join(main_dir, \"data\")\n",
    "\n",
    "# Create a plot directory to save our plots\n",
    "plot_dir = os.path.join(main_dir, \"plots\")\n",
    "\n"
   ]
  },
  {
   "cell_type": "code",
   "execution_count": null,
   "metadata": {},
   "outputs": [],
   "source": [
    "#=================================================-\n",
    "#### Slide 21: Working directory  ####\n",
    "\n",
    "# Set working directory.\n",
    "os.chdir(data_dir)\n",
    "# Check working directory.\n",
    "print(os.getcwd())\n",
    "\n"
   ]
  },
  {
   "cell_type": "code",
   "execution_count": null,
   "metadata": {},
   "outputs": [],
   "source": [
    "#=================================================-\n",
    "#### Slide 26: Load the dataset  ####\n",
    "\n",
    "household_poverty = pd.read_csv(\"costa_rica_poverty.csv\")\n",
    "print(household_poverty.head())\n",
    "\n"
   ]
  },
  {
   "cell_type": "code",
   "execution_count": null,
   "metadata": {},
   "outputs": [],
   "source": [
    "#=================================================-\n",
    "#### Slide 28: Subsetting data  ####\n",
    "\n",
    "costa_viz = household_poverty[['household_id',\n",
    "                               'ppl_total',\n",
    "                               'dependency_rate',\n",
    "                               'num_adults',\n",
    "                               'rooms',\n",
    "                               'age',\n",
    "                               'monthly_rent',\n",
    "                               'Target']]\n",
    "print(costa_viz.head())\n",
    "\n"
   ]
  },
  {
   "cell_type": "code",
   "execution_count": null,
   "metadata": {},
   "outputs": [],
   "source": [
    "#=================================================-\n",
    "#### Slide 29: Remove labels  ####\n",
    "\n",
    "# Let's prepare the data for visualizations by removing any labels,\n",
    "# removing the household_id variable, and keeping the remaining variables.\n",
    "costa_viz = costa_viz.drop('household_id', axis = 1)\n",
    "print(costa_viz.head())\n",
    "\n"
   ]
  },
  {
   "cell_type": "code",
   "execution_count": null,
   "metadata": {},
   "outputs": [],
   "source": [
    "#=================================================-\n",
    "#### Slide 30: Data prep: clean NAs  ####\n",
    "\n",
    "print(costa_viz.isnull().sum())\n",
    "\n"
   ]
  },
  {
   "cell_type": "code",
   "execution_count": null,
   "metadata": {},
   "outputs": [],
   "source": [
    "#=================================================-\n",
    "#### Slide 31: Data cleaning: NAs  ####\n",
    "\n",
    "# Set the dataframe equal to the imputed dataset.\n",
    "costa_viz = costa_viz.fillna(costa_viz.mean())\n",
    "# Check how many values are null in monthly_rent.\n",
    "print(costa_viz.isnull().sum())\n",
    "\n"
   ]
  },
  {
   "cell_type": "code",
   "execution_count": null,
   "metadata": {},
   "outputs": [],
   "source": [
    "#=================================================-\n",
    "#### Slide 32: Converting the target variable  ####\n",
    "\n",
    "costa_viz['Target'] = np.where(costa_viz['Target'] <= 3, 'vulnerable', 'non_vulnerable')\n",
    "print(costa_viz['Target'].head())\n",
    "\n"
   ]
  },
  {
   "cell_type": "code",
   "execution_count": null,
   "metadata": {},
   "outputs": [],
   "source": [
    "#=================================================-\n",
    "#### Slide 33: Data prep: target  ####\n",
    "\n",
    "print(costa_viz.Target.dtypes)\n",
    "costa_viz[\"Target\"] = np.where(costa_viz[\"Target\"] == \"non_vulnerable\", True, False)\n",
    "\n",
    "# Check class again.\n",
    "print(costa_viz.Target.dtypes)\n",
    "\n"
   ]
  },
  {
   "cell_type": "code",
   "execution_count": null,
   "metadata": {},
   "outputs": [],
   "source": [
    "#=================================================-\n",
    "#### Slide 35: Pickle cleaned dataset  ####\n",
    "\n",
    "pickle.dump(costa_viz, open(\"costa_viz.sav\",\"wb\" ))\n",
    "\n"
   ]
  },
  {
   "cell_type": "code",
   "execution_count": null,
   "metadata": {},
   "outputs": [],
   "source": [
    "#=================================================-\n",
    "#### Slide 37: Exercise 1  ####\n",
    "\n",
    "\n",
    "\n"
   ]
  },
  {
   "cell_type": "code",
   "execution_count": null,
   "metadata": {},
   "outputs": [],
   "source": [
    "#=================================================-\n",
    "#### Slide 42: Splitting using groupby()  ####\n",
    "\n",
    "# Group data by `Target` variable.\n",
    "grouped = costa_viz.groupby('Target')\n",
    "\n"
   ]
  },
  {
   "cell_type": "code",
   "execution_count": null,
   "metadata": {},
   "outputs": [],
   "source": [
    "#=================================================-\n",
    "#### Slide 45: Prepare data: group and summarize (cont'd)  ####\n",
    "\n",
    "# Compute mean on the listed variables using the grouped data.\n",
    "costa_grouped_mean = grouped.mean()[['ppl_total','dependency_rate','num_adults','rooms','age']]\n",
    "print(costa_grouped_mean)\n",
    "# Reset index of the dataset.\n",
    "costa_grouped_mean = costa_grouped_mean.reset_index()\n",
    "print(costa_grouped_mean)\n",
    "\n"
   ]
  },
  {
   "cell_type": "code",
   "execution_count": null,
   "metadata": {},
   "outputs": [],
   "source": [
    "#=================================================-\n",
    "#### Slide 48: Wide to long format: melt (cont'd)  ####\n",
    "\n",
    "# Melt the wide data into long.\n",
    "costa_grouped_mean_long = pd.melt(costa_grouped_mean,       #<- wide dataset\n",
    "                                  id_vars = ['Target'],     #<- identifying variable\n",
    "                                  var_name = 'metric',      #<- contains col names of wide data\n",
    "                                  value_name = 'mean')      #<- contains values from above columns\n",
    "print(costa_grouped_mean_long)\n",
    "\n",
    "\n"
   ]
  },
  {
   "cell_type": "code",
   "execution_count": null,
   "metadata": {},
   "outputs": [],
   "source": [
    "#=================================================-\n",
    "#### Slide 50: Long to wide format: pivot (cont'd)  ####\n",
    "\n",
    "# Melt the long data into wide.\n",
    "costa_grouped_mean_wide = costa_grouped_mean_long.pivot(\n",
    "                                                    index = 'Target',   #<- identifying variable\n",
    "                                                    columns = 'metric', #<- col names of wide data\n",
    "                                                    values = 'mean')    #<- values from above columns\n",
    "print(costa_grouped_mean_wide)\n",
    "\n"
   ]
  },
  {
   "cell_type": "code",
   "execution_count": null,
   "metadata": {},
   "outputs": [],
   "source": [
    "#=================================================-\n",
    "#### Slide 51: Pickle grouped data frames  ####\n",
    "\n",
    "pickle.dump(costa_grouped_mean_long, open(\"costa_grouped_mean_long.sav\",\"wb\" ))\n",
    "pickle.dump(costa_grouped_mean_wide, open(\"costa_grouped_mean_wide.sav\",\"wb\" ))\n",
    "\n"
   ]
  }
 ],
 "metadata": {
  "kernelspec": {
   "display_name": "Python 3",
   "language": "python",
   "name": "python3"
  },
  "language_info": {
   "codemirror_mode": {
    "name": "ipython",
    "version": 3
   },
   "file_extension": ".py",
   "mimetype": "text/x-python",
   "name": "python",
   "nbconvert_exporter": "python",
   "pygments_lexer": "ipython3",
   "version": "3.7.1"
  },
  "toc": {
   "base_numbering": 1,
   "nav_menu": {},
   "number_sections": true,
   "sideBar": true,
   "skip_h1_title": false,
   "title_cell": "Table of Contents",
   "title_sidebar": "Contents",
   "toc_cell": false,
   "toc_position": {},
   "toc_section_display": true,
   "toc_window_display": false
  }
 },
 "nbformat": 4,
 "nbformat_minor": 2
}
