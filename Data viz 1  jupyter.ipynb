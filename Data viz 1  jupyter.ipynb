{
 "cells": [
  {
   "cell_type": "code",
   "execution_count": 1,
   "id": "1e258746",
   "metadata": {},
   "outputs": [],
   "source": [
    "#https://github.com/Skillsoft-Content/Data-Visualization-with-Python\n",
    "import pandas as pd\n",
    "import numpy as np\n",
    "import pickle\n",
    "import os\n",
    "import matplotlib.pyplot as plt "
   ]
  },
  {
   "cell_type": "code",
   "execution_count": null,
   "id": "dc45b397",
   "metadata": {},
   "outputs": [],
   "source": [
    "household_poverty= pd.read_csv(\"costa_rica_poverty.csv\")\n",
    "print(household_poverty.head())\n",
    "\n",
    "#https://www.kaggle.com/competitions/costa-rican-household-poverty-prediction/data\n",
    "#costa_viz.to_csv('nameoffile.csv') when pickling\n",
    "#data on folder Data Visualization\n",
    "\n",
    "#Lucas@datasociety.com  Lucas Kelly"
   ]
  }
 ],
 "metadata": {
  "kernelspec": {
   "display_name": "Python 3 (ipykernel)",
   "language": "python",
   "name": "python3"
  },
  "language_info": {
   "codemirror_mode": {
    "name": "ipython",
    "version": 3
   },
   "file_extension": ".py",
   "mimetype": "text/x-python",
   "name": "python",
   "nbconvert_exporter": "python",
   "pygments_lexer": "ipython3",
   "version": "3.9.12"
  }
 },
 "nbformat": 4,
 "nbformat_minor": 5
}
