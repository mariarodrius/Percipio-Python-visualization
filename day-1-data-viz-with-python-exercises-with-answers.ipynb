{
 "cells": [
  {
   "cell_type": "markdown",
   "metadata": {},
   "source": [
    "# Day 1 - Data viz with Python - Exercises with answers"
   ]
  },
  {
   "cell_type": "markdown",
   "metadata": {},
   "source": [
    "## Exercise 1"
   ]
  },
  {
   "cell_type": "markdown",
   "metadata": {},
   "source": [
    "#### Question 1\n",
    "##### Import the required packages.\n",
    "##### Set the working directory to data directory.\n",
    "##### Print the working directory."
   ]
  },
  {
   "cell_type": "markdown",
   "metadata": {},
   "source": [
    "#### Answer:"
   ]
  },
  {
   "cell_type": "code",
   "execution_count": 40,
   "metadata": {},
   "outputs": [],
   "source": [
    "import numpy as np\n",
    "import pandas as pd\n",
    "import os\n",
    "import pickle\n",
    "import matplotlib.pyplot as plt"
   ]
  },
  {
   "cell_type": "code",
   "execution_count": 50,
   "metadata": {},
   "outputs": [],
   "source": [
    "# Set `home_dir` to the root directory of your computer.\n",
    "home_dir = os.path.expanduser(\"~\")\n",
    "# Set `main_dir` to the location of your `skillsoft-data-viz-with-python` folder.\n",
    "main_dir = os.path.join(home_dir, \"Desktop\", \"skillsoft-data-viz-with-python\")\n",
    "\n",
    "# Make `data_dir` from the `main_dir` and remainder of the path to data directory.\n",
    "data_dir = os.path.join(main_dir,\"data\")\n",
    "\n",
    "# Create a plot directory to save our plots\n",
    "plot_dir = os.path.join(main_dir, \"plots\")"
   ]
  },
  {
   "cell_type": "code",
   "execution_count": 51,
   "metadata": {},
   "outputs": [],
   "source": [
    "# Set working directory.\n",
    "os.chdir(data_dir)"
   ]
  },
  {
   "cell_type": "code",
   "execution_count": null,
   "metadata": {},
   "outputs": [],
   "source": [
    "# Check working directory.\n",
    "print(os.getcwd())"
   ]
  },
  {
   "cell_type": "markdown",
   "metadata": {},
   "source": [
    "#### Question 2\n",
    "##### Load the `chicago_census.csv` dataset. \n",
    "##### Save it as `chicago_census`.\n",
    "##### View the first few rows of `chicago_census`."
   ]
  },
  {
   "cell_type": "markdown",
   "metadata": {},
   "source": [
    "#### Answer:"
   ]
  },
  {
   "cell_type": "code",
   "execution_count": 46,
   "metadata": {},
   "outputs": [
    {
     "data": {
      "text/html": [
       "<div>\n",
       "<style scoped>\n",
       "    .dataframe tbody tr th:only-of-type {\n",
       "        vertical-align: middle;\n",
       "    }\n",
       "\n",
       "    .dataframe tbody tr th {\n",
       "        vertical-align: top;\n",
       "    }\n",
       "\n",
       "    .dataframe thead th {\n",
       "        text-align: right;\n",
       "    }\n",
       "</style>\n",
       "<table border=\"1\" class=\"dataframe\">\n",
       "  <thead>\n",
       "    <tr style=\"text-align: right;\">\n",
       "      <th></th>\n",
       "      <th>Community Area Number</th>\n",
       "      <th>COMMUNITY AREA NAME</th>\n",
       "      <th>PERCENT OF HOUSING CROWDED</th>\n",
       "      <th>PERCENT HOUSEHOLDS BELOW POVERTY</th>\n",
       "      <th>PERCENT AGED 16+ UNEMPLOYED</th>\n",
       "      <th>PERCENT AGED 25+ WITHOUT HIGH SCHOOL DIPLOMA</th>\n",
       "      <th>PERCENT AGED UNDER 18 OR OVER 64</th>\n",
       "      <th>PER CAPITA INCOME</th>\n",
       "      <th>HARDSHIP INDEX</th>\n",
       "    </tr>\n",
       "  </thead>\n",
       "  <tbody>\n",
       "    <tr>\n",
       "      <th>0</th>\n",
       "      <td>1.0</td>\n",
       "      <td>Rogers Park</td>\n",
       "      <td>7.7</td>\n",
       "      <td>23.6</td>\n",
       "      <td>8.7</td>\n",
       "      <td>18.2</td>\n",
       "      <td>27.5</td>\n",
       "      <td>23939</td>\n",
       "      <td>39.0</td>\n",
       "    </tr>\n",
       "    <tr>\n",
       "      <th>1</th>\n",
       "      <td>2.0</td>\n",
       "      <td>West Ridge</td>\n",
       "      <td>7.8</td>\n",
       "      <td>17.2</td>\n",
       "      <td>8.8</td>\n",
       "      <td>20.8</td>\n",
       "      <td>38.5</td>\n",
       "      <td>23040</td>\n",
       "      <td>46.0</td>\n",
       "    </tr>\n",
       "    <tr>\n",
       "      <th>2</th>\n",
       "      <td>3.0</td>\n",
       "      <td>Uptown</td>\n",
       "      <td>3.8</td>\n",
       "      <td>24.0</td>\n",
       "      <td>8.9</td>\n",
       "      <td>11.8</td>\n",
       "      <td>22.2</td>\n",
       "      <td>35787</td>\n",
       "      <td>20.0</td>\n",
       "    </tr>\n",
       "    <tr>\n",
       "      <th>3</th>\n",
       "      <td>4.0</td>\n",
       "      <td>Lincoln Square</td>\n",
       "      <td>3.4</td>\n",
       "      <td>10.9</td>\n",
       "      <td>8.2</td>\n",
       "      <td>13.4</td>\n",
       "      <td>25.5</td>\n",
       "      <td>37524</td>\n",
       "      <td>17.0</td>\n",
       "    </tr>\n",
       "    <tr>\n",
       "      <th>4</th>\n",
       "      <td>5.0</td>\n",
       "      <td>North Center</td>\n",
       "      <td>0.3</td>\n",
       "      <td>7.5</td>\n",
       "      <td>5.2</td>\n",
       "      <td>4.5</td>\n",
       "      <td>26.2</td>\n",
       "      <td>57123</td>\n",
       "      <td>6.0</td>\n",
       "    </tr>\n",
       "  </tbody>\n",
       "</table>\n",
       "</div>"
      ],
      "text/plain": [
       "   Community Area Number COMMUNITY AREA NAME  PERCENT OF HOUSING CROWDED  \\\n",
       "0                    1.0         Rogers Park                         7.7   \n",
       "1                    2.0          West Ridge                         7.8   \n",
       "2                    3.0              Uptown                         3.8   \n",
       "3                    4.0      Lincoln Square                         3.4   \n",
       "4                    5.0        North Center                         0.3   \n",
       "\n",
       "   PERCENT HOUSEHOLDS BELOW POVERTY  PERCENT AGED 16+ UNEMPLOYED  \\\n",
       "0                              23.6                          8.7   \n",
       "1                              17.2                          8.8   \n",
       "2                              24.0                          8.9   \n",
       "3                              10.9                          8.2   \n",
       "4                               7.5                          5.2   \n",
       "\n",
       "   PERCENT AGED 25+ WITHOUT HIGH SCHOOL DIPLOMA  \\\n",
       "0                                          18.2   \n",
       "1                                          20.8   \n",
       "2                                          11.8   \n",
       "3                                          13.4   \n",
       "4                                           4.5   \n",
       "\n",
       "   PERCENT AGED UNDER 18 OR OVER 64  PER CAPITA INCOME   HARDSHIP INDEX  \n",
       "0                              27.5               23939            39.0  \n",
       "1                              38.5               23040            46.0  \n",
       "2                              22.2               35787            20.0  \n",
       "3                              25.5               37524            17.0  \n",
       "4                              26.2               57123             6.0  "
      ]
     },
     "execution_count": 46,
     "metadata": {},
     "output_type": "execute_result"
    }
   ],
   "source": [
    "chicago_census = pd.read_csv(\"chicago_census.csv\")\n",
    "\n",
    "# First five rows using .head().\n",
    "chicago_census.head()"
   ]
  },
  {
   "cell_type": "markdown",
   "metadata": {},
   "source": [
    "#### Question 3\n",
    "\n",
    "###### Rename the column names as the following (and double check they are renamed by looking at `.columns`:"
   ]
  },
  {
   "cell_type": "code",
   "execution_count": 18,
   "metadata": {},
   "outputs": [],
   "source": [
    "chicago_census.rename(columns={'Community Area Number': 'community_number',\n",
    "                               'COMMUNITY AREA NAME': 'community_area' , \n",
    "                               'PERCENT OF HOUSING CROWDED': 'percent_house_crowded', \n",
    "                               'PERCENT HOUSEHOLDS BELOW POVERTY': 'percent_house_below_poverty', \n",
    "                               'PERCENT AGED 16+ UNEMPLOYED': 'percent_16_unemployed' , \n",
    "                               'PERCENT AGED 25+ WITHOUT HIGH SCHOOL DIPLOMA': 'percent_25_without_diploma', \n",
    "                               'PERCENT AGED UNDER 18 OR OVER 64': 'percent_dependent', \n",
    "                               'PER CAPITA INCOME ' : 'per_capita_income',\n",
    "                               'HARDSHIP INDEX': 'hardship_index'}, inplace = True)"
   ]
  },
  {
   "cell_type": "markdown",
   "metadata": {},
   "source": [
    "#### Answer:"
   ]
  },
  {
   "cell_type": "code",
   "execution_count": 19,
   "metadata": {},
   "outputs": [
    {
     "data": {
      "text/plain": [
       "Index(['community_number', 'community_area', 'percent_house_crowded',\n",
       "       'percent_house_below_poverty', 'percent_16_unemployed',\n",
       "       'percent_25_without_diploma', 'percent_dependent', 'per_capita_income',\n",
       "       'hardship_index'],\n",
       "      dtype='object')"
      ]
     },
     "execution_count": 19,
     "metadata": {},
     "output_type": "execute_result"
    }
   ],
   "source": [
    "# Check the columns were renamed.\n",
    "chicago_census.columns"
   ]
  },
  {
   "cell_type": "markdown",
   "metadata": {},
   "source": [
    "#### Question 4\n",
    "##### Drop columns `community_number` and `community_area` from the dataframe.\n",
    "##### Look for NAs in `chicago_census` and impute with the mean of the column.\n",
    "##### Check for NAs again to make sure the data looks good."
   ]
  },
  {
   "cell_type": "markdown",
   "metadata": {},
   "source": [
    "#### Answer:"
   ]
  },
  {
   "cell_type": "code",
   "execution_count": 20,
   "metadata": {},
   "outputs": [],
   "source": [
    "chicago_census = chicago_census.drop(chicago_census[['community_number', 'community_area']], axis = 1)"
   ]
  },
  {
   "cell_type": "code",
   "execution_count": 21,
   "metadata": {},
   "outputs": [
    {
     "data": {
      "text/plain": [
       "percent_house_crowded          0\n",
       "percent_house_below_poverty    0\n",
       "percent_16_unemployed          0\n",
       "percent_25_without_diploma     0\n",
       "percent_dependent              0\n",
       "per_capita_income              0\n",
       "hardship_index                 1\n",
       "dtype: int64"
      ]
     },
     "execution_count": 21,
     "metadata": {},
     "output_type": "execute_result"
    }
   ],
   "source": [
    "# Check for NAs.\n",
    "chicago_census.isnull().sum(axis = 0)"
   ]
  },
  {
   "cell_type": "code",
   "execution_count": 22,
   "metadata": {},
   "outputs": [
    {
     "data": {
      "text/plain": [
       "percent_house_crowded          0\n",
       "percent_house_below_poverty    0\n",
       "percent_16_unemployed          0\n",
       "percent_25_without_diploma     0\n",
       "percent_dependent              0\n",
       "per_capita_income              0\n",
       "hardship_index                 0\n",
       "dtype: int64"
      ]
     },
     "execution_count": 22,
     "metadata": {},
     "output_type": "execute_result"
    }
   ],
   "source": [
    "# Fill the hardship_index with the mean of the column.\n",
    "chicago_census.hardship_index = chicago_census.hardship_index.fillna(chicago_census.hardship_index.mean())\n",
    "# Check for NAs again:\n",
    "chicago_census.isnull().sum(axis = 0)"
   ]
  },
  {
   "cell_type": "markdown",
   "metadata": {},
   "source": [
    "#### Question 5\n",
    "##### Create a variable `mean_per_capita_income` which contains the mean of `per_capita_income` from `chicago_census`.\n",
    "##### Convert `per_capita_income` variable to a binary variable where `per_capita_income` is set to 0 if per_capita_income of the row is less than `mean per_capita_income`, otherwise set `per_capita_income` to 1.\n",
    "###### Make a new duplicate dataframe called `ex_viz`."
   ]
  },
  {
   "cell_type": "markdown",
   "metadata": {},
   "source": [
    "#### Answer:"
   ]
  },
  {
   "cell_type": "code",
   "execution_count": 23,
   "metadata": {},
   "outputs": [],
   "source": [
    "# Define per_capita_income mean.\n",
    "mean_per_capita_income = chicago_census['per_capita_income'].mean()\n",
    "chicago_census['per_capita_income'] = np.where(chicago_census['per_capita_income'] < mean_per_capita_income, 0, 1)\n",
    "ex_viz = chicago_census"
   ]
  },
  {
   "cell_type": "markdown",
   "metadata": {},
   "source": [
    "#### Question 6\n",
    "##### Create a pickle for the cleaned data frame `ex_viz` "
   ]
  },
  {
   "cell_type": "markdown",
   "metadata": {},
   "source": [
    "#### Answer:"
   ]
  },
  {
   "cell_type": "code",
   "execution_count": 24,
   "metadata": {},
   "outputs": [],
   "source": [
    "pickle.dump(ex_viz, open(\"ex_viz.sav\",\"wb\" ))"
   ]
  },
  {
   "cell_type": "markdown",
   "metadata": {},
   "source": [
    "## Exercise 2"
   ]
  },
  {
   "cell_type": "markdown",
   "metadata": {},
   "source": [
    "#### Question 1\n",
    "\n",
    "##### Group `ex_viz` data by the `per_capita_income` variable. Save as `ex_grouped`.\n",
    "##### Then group and summarize the numeric variables `community_number`, `percent_house_crowded`, \n",
    "##### `percent_house_below_poverty`,`percent_16_unemployed`, `percent_25_without_diploma`, `percent_dependent`, \n",
    "###### `hardship_index` by `per_capita_income` using their means. Save as `ex_grouped_mean` and print.\n",
    "##### Reset its index and print the result."
   ]
  },
  {
   "cell_type": "markdown",
   "metadata": {},
   "source": [
    "#### Answer:"
   ]
  },
  {
   "cell_type": "code",
   "execution_count": 25,
   "metadata": {},
   "outputs": [],
   "source": [
    "# Group data by `per_capita_income` variable.\n",
    "ex_grouped = ex_viz.groupby('per_capita_income')"
   ]
  },
  {
   "cell_type": "code",
   "execution_count": 26,
   "metadata": {},
   "outputs": [
    {
     "name": "stdout",
     "output_type": "stream",
     "text": [
      "                   percent_house_crowded  percent_house_below_poverty  \\\n",
      "per_capita_income                                                       \n",
      "0                               6.288000                    26.780000   \n",
      "1                               2.478571                    12.739286   \n",
      "\n",
      "                   percent_16_unemployed  percent_25_without_diploma  \\\n",
      "per_capita_income                                                      \n",
      "0                              18.810000                   26.092000   \n",
      "1                               9.146429                   10.042857   \n",
      "\n",
      "                   percent_dependent  hardship_index  \n",
      "per_capita_income                                     \n",
      "0                          38.834000       66.640000  \n",
      "1                          30.153571       18.910946  \n"
     ]
    }
   ],
   "source": [
    "# Compute mean on the listed variables using the grouped data.\n",
    "ex_grouped_mean = ex_grouped.mean()[['percent_house_crowded','percent_house_below_poverty','percent_16_unemployed','percent_25_without_diploma','percent_dependent','hardship_index']]\n",
    "print(ex_grouped_mean)"
   ]
  },
  {
   "cell_type": "code",
   "execution_count": 27,
   "metadata": {},
   "outputs": [
    {
     "name": "stdout",
     "output_type": "stream",
     "text": [
      "   per_capita_income  percent_house_crowded  percent_house_below_poverty  \\\n",
      "0                  0               6.288000                    26.780000   \n",
      "1                  1               2.478571                    12.739286   \n",
      "\n",
      "   percent_16_unemployed  percent_25_without_diploma  percent_dependent  \\\n",
      "0              18.810000                   26.092000          38.834000   \n",
      "1               9.146429                   10.042857          30.153571   \n",
      "\n",
      "   hardship_index  \n",
      "0       66.640000  \n",
      "1       18.910946  \n"
     ]
    }
   ],
   "source": [
    "ex_grouped_mean = ex_grouped.mean().reset_index()\n",
    "print(ex_grouped_mean)"
   ]
  },
  {
   "cell_type": "markdown",
   "metadata": {},
   "source": [
    "#### Question 2\n",
    "\n",
    "##### Notice the format of `ex_grouped_mean`. We wish to convert it from wide to long format.\n",
    "##### Use the `pd.melt()` function and convert it to long format. Save as `ex_grouped_mean_long` and print the result."
   ]
  },
  {
   "cell_type": "markdown",
   "metadata": {},
   "source": [
    "#### Answer:"
   ]
  },
  {
   "cell_type": "code",
   "execution_count": 28,
   "metadata": {},
   "outputs": [
    {
     "name": "stdout",
     "output_type": "stream",
     "text": [
      "    per_capita_income                       metric       mean\n",
      "0                   0        percent_house_crowded   6.288000\n",
      "1                   1        percent_house_crowded   2.478571\n",
      "2                   0  percent_house_below_poverty  26.780000\n",
      "3                   1  percent_house_below_poverty  12.739286\n",
      "4                   0        percent_16_unemployed  18.810000\n",
      "5                   1        percent_16_unemployed   9.146429\n",
      "6                   0   percent_25_without_diploma  26.092000\n",
      "7                   1   percent_25_without_diploma  10.042857\n",
      "8                   0            percent_dependent  38.834000\n",
      "9                   1            percent_dependent  30.153571\n",
      "10                  0               hardship_index  66.640000\n",
      "11                  1               hardship_index  18.910946\n"
     ]
    }
   ],
   "source": [
    "# Melt the wide data into long.\n",
    "ex_grouped_mean_long = pd.melt(ex_grouped_mean,       #<- wide dataset\n",
    "                               id_vars = ['per_capita_income'],  #<- identifying variable\n",
    "                               var_name = 'metric',      #<- contains col names of wide data\n",
    "                               value_name = 'mean')      #<- contains values from above columns\n",
    "print(ex_grouped_mean_long)"
   ]
  },
  {
   "cell_type": "markdown",
   "metadata": {},
   "source": [
    "#### Question 3\n",
    "##### Now use the `pd.pivot()` function to convert `ex_grouped_mean_long` to wide format.\n",
    "##### Save as `ex_grouped_mean_wide` and print."
   ]
  },
  {
   "cell_type": "markdown",
   "metadata": {},
   "source": [
    "#### Answer:"
   ]
  },
  {
   "cell_type": "code",
   "execution_count": 29,
   "metadata": {},
   "outputs": [
    {
     "name": "stdout",
     "output_type": "stream",
     "text": [
      "metric             hardship_index  percent_16_unemployed  \\\n",
      "per_capita_income                                          \n",
      "0                       66.640000              18.810000   \n",
      "1                       18.910946               9.146429   \n",
      "\n",
      "metric             percent_25_without_diploma  percent_dependent  \\\n",
      "per_capita_income                                                  \n",
      "0                                   26.092000          38.834000   \n",
      "1                                   10.042857          30.153571   \n",
      "\n",
      "metric             percent_house_below_poverty  percent_house_crowded  \n",
      "per_capita_income                                                      \n",
      "0                                    26.780000               6.288000  \n",
      "1                                    12.739286               2.478571  \n"
     ]
    }
   ],
   "source": [
    "# Melt the long data into wide.\n",
    "ex_grouped_mean_wide = ex_grouped_mean_long.pivot(   \n",
    "                                      index = 'per_capita_income',     #<- identifying variable\n",
    "                                      columns = 'metric', #<- contains col names of wide data\n",
    "                                      values = 'mean')    #<- contains values from above columns\n",
    "print(ex_grouped_mean_wide)"
   ]
  },
  {
   "cell_type": "markdown",
   "metadata": {},
   "source": [
    "#### Question 4\n",
    "##### Pickle the data frames `ex_grouped_mean_wide` and `ex_grouped_mean_long`.\n"
   ]
  },
  {
   "cell_type": "markdown",
   "metadata": {},
   "source": [
    "#### Answer:"
   ]
  },
  {
   "cell_type": "code",
   "execution_count": 30,
   "metadata": {},
   "outputs": [],
   "source": [
    "pickle.dump(ex_grouped_mean_long, open(\"ex_grouped_mean_long.sav\",\"wb\" ))\n",
    "pickle.dump(ex_grouped_mean_wide, open(\"ex_grouped_mean_wide.sav\",\"wb\" ))"
   ]
  }
 ],
 "metadata": {
  "kernelspec": {
   "display_name": "Python 3 (ipykernel)",
   "language": "python",
   "name": "python3"
  },
  "language_info": {
   "codemirror_mode": {
    "name": "ipython",
    "version": 3
   },
   "file_extension": ".py",
   "mimetype": "text/x-python",
   "name": "python",
   "nbconvert_exporter": "python",
   "pygments_lexer": "ipython3",
   "version": "3.9.12"
  }
 },
 "nbformat": 4,
 "nbformat_minor": 2
}
